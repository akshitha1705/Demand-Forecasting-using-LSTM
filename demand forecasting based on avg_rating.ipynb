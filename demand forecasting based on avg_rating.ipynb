{
 "cells": [
  {
   "cell_type": "code",
   "execution_count": 4,
   "id": "18bbbab3",
   "metadata": {},
   "outputs": [
    {
     "name": "stdout",
     "output_type": "stream",
     "text": [
      "Collecting xlrd\n",
      "  Downloading xlrd-2.0.1-py2.py3-none-any.whl (96 kB)\n",
      "     ---------------------------------------- 96.5/96.5 kB 5.8 MB/s eta 0:00:00\n",
      "Installing collected packages: xlrd\n",
      "Successfully installed xlrd-2.0.1\n"
     ]
    },
    {
     "name": "stderr",
     "output_type": "stream",
     "text": [
      "WARNING: Ignoring invalid distribution -pencv-python (c:\\users\\pranay kumar\\onedrive\\documents\\lib\\site-packages)\n",
      "WARNING: Ignoring invalid distribution -pencv-python (c:\\users\\pranay kumar\\onedrive\\documents\\lib\\site-packages)\n",
      "WARNING: Ignoring invalid distribution -pencv-python (c:\\users\\pranay kumar\\onedrive\\documents\\lib\\site-packages)\n",
      "WARNING: Ignoring invalid distribution -pencv-python (c:\\users\\pranay kumar\\onedrive\\documents\\lib\\site-packages)\n",
      "WARNING: Ignoring invalid distribution -pencv-python (c:\\users\\pranay kumar\\onedrive\\documents\\lib\\site-packages)\n",
      "WARNING: Ignoring invalid distribution -pencv-python (c:\\users\\pranay kumar\\onedrive\\documents\\lib\\site-packages)\n",
      "WARNING: Ignoring invalid distribution -pencv-python (c:\\users\\pranay kumar\\onedrive\\documents\\lib\\site-packages)\n"
     ]
    }
   ],
   "source": [
    "!pip install xlrd\n"
   ]
  },
  {
   "cell_type": "code",
   "execution_count": 5,
   "id": "4fa8d89b",
   "metadata": {},
   "outputs": [
    {
     "name": "stdout",
     "output_type": "stream",
     "text": [
      "   product_id    product_name  gender category     pattern  color age_group  \\\n",
      "0        1001    Biker Jacket    Male    Shirt   Geometric  White     25-35   \n",
      "1        1002  Business Shirt    Male   Jacket  Polka Dots  Beige     18-24   \n",
      "2        1003     Wool Jacket  Female    Dress   Geometric  Brown     18-24   \n",
      "3        1004    Summer Dress    Male   Shorts       Plain  White     25-35   \n",
      "4        1005    Casual Jeans    Male    Shirt       Plain  Beige     35-45   \n",
      "\n",
      "   season   price   material  sales_count  reviews_count  average_rating  \\\n",
      "0  Spring   70.36  Synthetic           75             65             4.9   \n",
      "1  Summer   91.59       Wool          296             25             3.5   \n",
      "2     All  129.52       Wool           50             32             4.3   \n",
      "3     All  116.01     Cotton          435             73             4.6   \n",
      "4  Winter  125.48    Viscose           79             36             3.6   \n",
      "\n",
      "   out_of_stock_times brand  discount last_stock_date  wish_list_count  \\\n",
      "0                   3  ZARA      0.20      2018-01-28              211   \n",
      "1                   6  ZARA      0.00      2018-01-28              211   \n",
      "2                   4  ZARA      0.05      2018-01-07               64   \n",
      "3                   3  ZARA      0.10      2018-01-01              171   \n",
      "4                   4  ZARA      0.00      2018-01-28              126   \n",
      "\n",
      "   month_of_sale  year_of_sale  \n",
      "0              1          2018  \n",
      "1              1          2018  \n",
      "2              1          2018  \n",
      "3              1          2018  \n",
      "4              1          2018  \n"
     ]
    }
   ],
   "source": [
    "import pandas as pd\n",
    "\n",
    "# Load the Excel file\n",
    "file_path = r\"C:\\Users\\Pranay kumar\\Downloads\\fashion_data_2018_2022 (1).xls\"  # Use the actual file path\n",
    "df = pd.read_excel(file_path)\n",
    "\n",
    "# Display the first few rows of the DataFrame\n",
    "print(df.head())"
   ]
  },
  {
   "cell_type": "code",
   "execution_count": 6,
   "id": "11db42bd",
   "metadata": {},
   "outputs": [
    {
     "name": "stdout",
     "output_type": "stream",
     "text": [
      "product_id            0\n",
      "product_name          0\n",
      "gender                0\n",
      "category              0\n",
      "pattern               0\n",
      "color                 0\n",
      "age_group             0\n",
      "season                0\n",
      "price                 0\n",
      "material              0\n",
      "sales_count           0\n",
      "reviews_count         0\n",
      "average_rating        0\n",
      "out_of_stock_times    0\n",
      "brand                 0\n",
      "discount              0\n",
      "last_stock_date       0\n",
      "wish_list_count       0\n",
      "month_of_sale         0\n",
      "year_of_sale          0\n",
      "dtype: int64\n",
      "product_id                     int64\n",
      "product_name                  object\n",
      "gender                        object\n",
      "category                      object\n",
      "pattern                       object\n",
      "color                         object\n",
      "age_group                     object\n",
      "season                        object\n",
      "price                        float64\n",
      "material                      object\n",
      "sales_count                    int32\n",
      "reviews_count                  int64\n",
      "average_rating               float64\n",
      "out_of_stock_times             int64\n",
      "brand                         object\n",
      "discount                     float64\n",
      "last_stock_date       datetime64[ns]\n",
      "wish_list_count                int64\n",
      "month_of_sale                  int64\n",
      "year_of_sale                   int32\n",
      "dtype: object\n"
     ]
    }
   ],
   "source": [
    "# Check for missing values\n",
    "print(df.isnull().sum())\n",
    "\n",
    "# Fill or drop missing values as appropriate\n",
    "df = df.dropna()  # or use df.fillna(value) for filling\n",
    "\n",
    "# Convert columns to appropriate data types\n",
    "df['year_of_sale'] = df['year_of_sale'].astype(int)\n",
    "df['price'] = df['price'].astype(float)\n",
    "df['sales_count'] = df['sales_count'].astype(int)\n",
    "df['average_rating'] = df['average_rating'].astype(float)\n",
    "\n",
    "# Display data types\n",
    "print(df.dtypes)"
   ]
  },
  {
   "cell_type": "code",
   "execution_count": 7,
   "id": "fb4573a5",
   "metadata": {},
   "outputs": [
    {
     "name": "stdout",
     "output_type": "stream",
     "text": [
      "         product_id product_name  gender category pattern  color age_group  \\\n",
      "count    660.000000          660     660      660     660    660       660   \n",
      "unique          NaN           10       2        8       6     12         3   \n",
      "top             NaN  Beach Shirt  Female    Skirt   Plain  White     18-24   \n",
      "freq            NaN           83     331       99     220    174       226   \n",
      "first           NaN          NaN     NaN      NaN     NaN    NaN       NaN   \n",
      "last            NaN          NaN     NaN      NaN     NaN    NaN       NaN   \n",
      "mean    1330.500000          NaN     NaN      NaN     NaN    NaN       NaN   \n",
      "std      190.669872          NaN     NaN      NaN     NaN    NaN       NaN   \n",
      "min     1001.000000          NaN     NaN      NaN     NaN    NaN       NaN   \n",
      "25%     1165.750000          NaN     NaN      NaN     NaN    NaN       NaN   \n",
      "50%     1330.500000          NaN     NaN      NaN     NaN    NaN       NaN   \n",
      "75%     1495.250000          NaN     NaN      NaN     NaN    NaN       NaN   \n",
      "max     1660.000000          NaN     NaN      NaN     NaN    NaN       NaN   \n",
      "\n",
      "       season       price material  sales_count  reviews_count  \\\n",
      "count     660  660.000000      660    660.00000     660.000000   \n",
      "unique      5         NaN        7          NaN            NaN   \n",
      "top       All         NaN  Leather          NaN            NaN   \n",
      "freq      149         NaN      104          NaN            NaN   \n",
      "first     NaN         NaN      NaN          NaN            NaN   \n",
      "last      NaN         NaN      NaN          NaN            NaN   \n",
      "mean      NaN   84.967939      NaN    265.55303      62.156061   \n",
      "std       NaN   37.622893      NaN    132.32956      23.564812   \n",
      "min       NaN   20.250000      NaN     50.00000      20.000000   \n",
      "25%       NaN   53.197500      NaN    149.00000      42.000000   \n",
      "50%       NaN   82.040000      NaN    257.00000      63.000000   \n",
      "75%       NaN  117.770000      NaN    378.50000      83.250000   \n",
      "max       NaN  149.930000      NaN    500.00000     100.000000   \n",
      "\n",
      "        average_rating  out_of_stock_times brand    discount  \\\n",
      "count       660.000000          660.000000   660  660.000000   \n",
      "unique             NaN                 NaN     1         NaN   \n",
      "top                NaN                 NaN  ZARA         NaN   \n",
      "freq               NaN                 NaN   660         NaN   \n",
      "first              NaN                 NaN   NaN         NaN   \n",
      "last               NaN                 NaN   NaN         NaN   \n",
      "mean          4.016212            3.534848   NaN    0.103333   \n",
      "std           0.550895            1.705209   NaN    0.069984   \n",
      "min           3.000000            1.000000   NaN    0.000000   \n",
      "25%           3.600000            2.000000   NaN    0.050000   \n",
      "50%           4.000000            4.000000   NaN    0.100000   \n",
      "75%           4.500000            5.000000   NaN    0.150000   \n",
      "max           5.000000            6.000000   NaN    0.200000   \n",
      "\n",
      "            last_stock_date  wish_list_count  month_of_sale  year_of_sale  \n",
      "count                   660       660.000000     660.000000    660.000000  \n",
      "unique                  557              NaN            NaN           NaN  \n",
      "top     2020-06-29 00:00:00              NaN            NaN           NaN  \n",
      "freq                      4              NaN            NaN           NaN  \n",
      "first   2018-01-01 00:00:00              NaN            NaN           NaN  \n",
      "last    2022-12-26 00:00:00              NaN            NaN           NaN  \n",
      "mean                    NaN       151.683333       6.500000   2020.000000  \n",
      "std                     NaN        57.430499       3.454671      1.415286  \n",
      "min                     NaN        50.000000       1.000000   2018.000000  \n",
      "25%                     NaN        99.000000       3.750000   2019.000000  \n",
      "50%                     NaN       151.000000       6.500000   2020.000000  \n",
      "75%                     NaN       203.000000       9.250000   2021.000000  \n",
      "max                     NaN       250.000000      12.000000   2022.000000  \n"
     ]
    },
    {
     "name": "stderr",
     "output_type": "stream",
     "text": [
      "C:\\Users\\Pranay kumar\\AppData\\Local\\Temp\\ipykernel_8276\\647849962.py:2: FutureWarning: Treating datetime data as categorical rather than numeric in `.describe` is deprecated and will be removed in a future version of pandas. Specify `datetime_is_numeric=True` to silence this warning and adopt the future behavior now.\n",
      "  print(df.describe(include='all'))\n"
     ]
    }
   ],
   "source": [
    "# Get descriptive statistics\n",
    "print(df.describe(include='all'))"
   ]
  },
  {
   "cell_type": "code",
   "execution_count": 8,
   "id": "1133e778",
   "metadata": {},
   "outputs": [],
   "source": [
    "from sklearn.preprocessing import MinMaxScaler\n",
    "import numpy as np\n",
    "\n",
    "# Select the features and target\n",
    "features = ['year_of_sale', 'price', 'average_rating', 'sales_count']\n",
    "target = 'sales_count'\n",
    "\n",
    "# Normalize the features\n",
    "scaler = MinMaxScaler()\n",
    "scaled_data = scaler.fit_transform(df[features])\n",
    "\n",
    "# Prepare the data for LSTM\n",
    "def create_sequences(data, seq_length):\n",
    "    X, y = [], []\n",
    "    for i in range(len(data) - seq_length):\n",
    "        X.append(data[i:i+seq_length])\n",
    "        y.append(data[i+seq_length, 3])  # Using 'sales_count' as the target\n",
    "    return np.array(X), np.array(y)\n",
    "\n",
    "# Sequence length (number of previous time steps to use for predicting the next time step)\n",
    "seq_length = 5\n",
    "\n",
    "X, y = create_sequences(scaled_data, seq_length)"
   ]
  },
  {
   "cell_type": "code",
   "execution_count": 9,
   "id": "1ee6849e",
   "metadata": {},
   "outputs": [],
   "source": [
    "from sklearn.model_selection import train_test_split\n",
    "\n",
    "X_train, X_test, y_train, y_test = train_test_split(X, y, test_size=0.2, random_state=42)"
   ]
  },
  {
   "cell_type": "code",
   "execution_count": 10,
   "id": "3f0b1e7c",
   "metadata": {},
   "outputs": [],
   "source": [
    "import tensorflow as tf\n",
    "from tensorflow.keras.models import Sequential\n",
    "from tensorflow.keras.layers import LSTM, Dense, Dropout"
   ]
  },
  {
   "cell_type": "code",
   "execution_count": 11,
   "id": "a0b1f978",
   "metadata": {},
   "outputs": [],
   "source": [
    "# Build the LSTM model\n",
    "model = Sequential()\n",
    "model.add(LSTM(50, return_sequences=True, input_shape=(X_train.shape[1], X_train.shape[2])))\n",
    "model.add(Dropout(0.2))\n",
    "model.add(LSTM(50, return_sequences=False))\n",
    "model.add(Dropout(0.2))\n",
    "model.add(Dense(1))"
   ]
  },
  {
   "cell_type": "code",
   "execution_count": 12,
   "id": "4c0b9631",
   "metadata": {},
   "outputs": [],
   "source": [
    "# Compile the model\n",
    "model.compile(optimizer='adam', loss='mean_squared_error')"
   ]
  },
  {
   "cell_type": "code",
   "execution_count": 13,
   "id": "047f4835",
   "metadata": {},
   "outputs": [
    {
     "name": "stdout",
     "output_type": "stream",
     "text": [
      "Model: \"sequential\"\n",
      "_________________________________________________________________\n",
      " Layer (type)                Output Shape              Param #   \n",
      "=================================================================\n",
      " lstm (LSTM)                 (None, 5, 50)             11000     \n",
      "                                                                 \n",
      " dropout (Dropout)           (None, 5, 50)             0         \n",
      "                                                                 \n",
      " lstm_1 (LSTM)               (None, 50)                20200     \n",
      "                                                                 \n",
      " dropout_1 (Dropout)         (None, 50)                0         \n",
      "                                                                 \n",
      " dense (Dense)               (None, 1)                 51        \n",
      "                                                                 \n",
      "=================================================================\n",
      "Total params: 31251 (122.07 KB)\n",
      "Trainable params: 31251 (122.07 KB)\n",
      "Non-trainable params: 0 (0.00 Byte)\n",
      "_________________________________________________________________\n"
     ]
    }
   ],
   "source": [
    "# Print model summary\n",
    "model.summary()"
   ]
  },
  {
   "cell_type": "code",
   "execution_count": 14,
   "id": "3f2fbc7e",
   "metadata": {},
   "outputs": [
    {
     "name": "stdout",
     "output_type": "stream",
     "text": [
      "Epoch 1/50\n",
      "17/17 [==============================] - 4s 53ms/step - loss: 0.1684 - val_loss: 0.1051\n",
      "Epoch 2/50\n",
      "17/17 [==============================] - 0s 6ms/step - loss: 0.0999 - val_loss: 0.0801\n",
      "Epoch 3/50\n",
      "17/17 [==============================] - 0s 6ms/step - loss: 0.0968 - val_loss: 0.0811\n",
      "Epoch 4/50\n",
      "17/17 [==============================] - 0s 7ms/step - loss: 0.0947 - val_loss: 0.0786\n",
      "Epoch 5/50\n",
      "17/17 [==============================] - 0s 8ms/step - loss: 0.0954 - val_loss: 0.0797\n",
      "Epoch 6/50\n",
      "17/17 [==============================] - 0s 8ms/step - loss: 0.0941 - val_loss: 0.0787\n",
      "Epoch 7/50\n",
      "17/17 [==============================] - 0s 7ms/step - loss: 0.0939 - val_loss: 0.0784\n",
      "Epoch 8/50\n",
      "17/17 [==============================] - 0s 6ms/step - loss: 0.0905 - val_loss: 0.0793\n",
      "Epoch 9/50\n",
      "17/17 [==============================] - 0s 7ms/step - loss: 0.0920 - val_loss: 0.0785\n",
      "Epoch 10/50\n",
      "17/17 [==============================] - 0s 6ms/step - loss: 0.0924 - val_loss: 0.0785\n",
      "Epoch 11/50\n",
      "17/17 [==============================] - 0s 7ms/step - loss: 0.0924 - val_loss: 0.0783\n",
      "Epoch 12/50\n",
      "17/17 [==============================] - 0s 7ms/step - loss: 0.0904 - val_loss: 0.0783\n",
      "Epoch 13/50\n",
      "17/17 [==============================] - 0s 7ms/step - loss: 0.0912 - val_loss: 0.0788\n",
      "Epoch 14/50\n",
      "17/17 [==============================] - 0s 7ms/step - loss: 0.0908 - val_loss: 0.0786\n",
      "Epoch 15/50\n",
      "17/17 [==============================] - 0s 7ms/step - loss: 0.0952 - val_loss: 0.0779\n",
      "Epoch 16/50\n",
      "17/17 [==============================] - 0s 7ms/step - loss: 0.0930 - val_loss: 0.0783\n",
      "Epoch 17/50\n",
      "17/17 [==============================] - 0s 8ms/step - loss: 0.0895 - val_loss: 0.0783\n",
      "Epoch 18/50\n",
      "17/17 [==============================] - 0s 8ms/step - loss: 0.0908 - val_loss: 0.0782\n",
      "Epoch 19/50\n",
      "17/17 [==============================] - 0s 8ms/step - loss: 0.0921 - val_loss: 0.0783\n",
      "Epoch 20/50\n",
      "17/17 [==============================] - 0s 7ms/step - loss: 0.0918 - val_loss: 0.0782\n",
      "Epoch 21/50\n",
      "17/17 [==============================] - 0s 7ms/step - loss: 0.0895 - val_loss: 0.0773\n",
      "Epoch 22/50\n",
      "17/17 [==============================] - 0s 7ms/step - loss: 0.0916 - val_loss: 0.0779\n",
      "Epoch 23/50\n",
      "17/17 [==============================] - 0s 6ms/step - loss: 0.0907 - val_loss: 0.0772\n",
      "Epoch 24/50\n",
      "17/17 [==============================] - 0s 7ms/step - loss: 0.0925 - val_loss: 0.0778\n",
      "Epoch 25/50\n",
      "17/17 [==============================] - 0s 7ms/step - loss: 0.0890 - val_loss: 0.0783\n",
      "Epoch 26/50\n",
      "17/17 [==============================] - 0s 7ms/step - loss: 0.0916 - val_loss: 0.0791\n",
      "Epoch 27/50\n",
      "17/17 [==============================] - 0s 7ms/step - loss: 0.0908 - val_loss: 0.0784\n",
      "Epoch 28/50\n",
      "17/17 [==============================] - 0s 7ms/step - loss: 0.0879 - val_loss: 0.0780\n",
      "Epoch 29/50\n",
      "17/17 [==============================] - 0s 6ms/step - loss: 0.0905 - val_loss: 0.0783\n",
      "Epoch 30/50\n",
      "17/17 [==============================] - 0s 6ms/step - loss: 0.0902 - val_loss: 0.0786\n",
      "Epoch 31/50\n",
      "17/17 [==============================] - 0s 7ms/step - loss: 0.0918 - val_loss: 0.0776\n",
      "Epoch 32/50\n",
      "17/17 [==============================] - 0s 7ms/step - loss: 0.0905 - val_loss: 0.0781\n",
      "Epoch 33/50\n",
      "17/17 [==============================] - 0s 7ms/step - loss: 0.0908 - val_loss: 0.0776\n",
      "Epoch 34/50\n",
      "17/17 [==============================] - 0s 7ms/step - loss: 0.0909 - val_loss: 0.0782\n",
      "Epoch 35/50\n",
      "17/17 [==============================] - 0s 7ms/step - loss: 0.0904 - val_loss: 0.0791\n",
      "Epoch 36/50\n",
      "17/17 [==============================] - 0s 7ms/step - loss: 0.0891 - val_loss: 0.0783\n",
      "Epoch 37/50\n",
      "17/17 [==============================] - 0s 6ms/step - loss: 0.0886 - val_loss: 0.0774\n",
      "Epoch 38/50\n",
      "17/17 [==============================] - 0s 7ms/step - loss: 0.0902 - val_loss: 0.0787\n",
      "Epoch 39/50\n",
      "17/17 [==============================] - 0s 7ms/step - loss: 0.0908 - val_loss: 0.0790\n",
      "Epoch 40/50\n",
      "17/17 [==============================] - 0s 6ms/step - loss: 0.0898 - val_loss: 0.0784\n",
      "Epoch 41/50\n",
      "17/17 [==============================] - 0s 6ms/step - loss: 0.0892 - val_loss: 0.0778\n",
      "Epoch 42/50\n",
      "17/17 [==============================] - 0s 6ms/step - loss: 0.0901 - val_loss: 0.0780\n",
      "Epoch 43/50\n",
      "17/17 [==============================] - 0s 7ms/step - loss: 0.0877 - val_loss: 0.0781\n",
      "Epoch 44/50\n",
      "17/17 [==============================] - 0s 6ms/step - loss: 0.0914 - val_loss: 0.0786\n",
      "Epoch 45/50\n",
      "17/17 [==============================] - 0s 7ms/step - loss: 0.0881 - val_loss: 0.0782\n",
      "Epoch 46/50\n",
      "17/17 [==============================] - 0s 6ms/step - loss: 0.0906 - val_loss: 0.0780\n",
      "Epoch 47/50\n",
      "17/17 [==============================] - 0s 7ms/step - loss: 0.0890 - val_loss: 0.0785\n",
      "Epoch 48/50\n",
      "17/17 [==============================] - 0s 6ms/step - loss: 0.0894 - val_loss: 0.0783\n",
      "Epoch 49/50\n",
      "17/17 [==============================] - 0s 6ms/step - loss: 0.0900 - val_loss: 0.0780\n",
      "Epoch 50/50\n",
      "17/17 [==============================] - 0s 7ms/step - loss: 0.0882 - val_loss: 0.0784\n"
     ]
    }
   ],
   "source": [
    "# Train the model\n",
    "history = model.fit(X_train, y_train, epochs=50, batch_size=32, validation_data=(X_test, y_test), shuffle=False)"
   ]
  },
  {
   "cell_type": "code",
   "execution_count": 15,
   "id": "3e5f86b5",
   "metadata": {},
   "outputs": [
    {
     "name": "stdout",
     "output_type": "stream",
     "text": [
      "Train Loss: 0.0875161737203598\n",
      "Test Loss: 0.07839571684598923\n"
     ]
    },
    {
     "data": {
      "image/png": "[encoded data removed]",
      "text/plain": [
       "<Figure size 640x480 with 1 Axes>"
      ]
     },
     "metadata": {},
     "output_type": "display_data"
    }
   ],
   "source": [
    "import matplotlib.pyplot as plt\n",
    "\n",
    "# Evaluate the model\n",
    "train_loss = model.evaluate(X_train, y_train, verbose=0)\n",
    "test_loss = model.evaluate(X_test, y_test, verbose=0)\n",
    "print(f'Train Loss: {train_loss}')\n",
    "print(f'Test Loss: {test_loss}')\n",
    "\n",
    "# Plot the training and validation loss\n",
    "plt.plot(history.history['loss'], label='Train Loss')\n",
    "plt.plot(history.history['val_loss'], label='Validation Loss')\n",
    "plt.legend()\n",
    "plt.show()"
   ]
  },
  {
   "cell_type": "code",
   "execution_count": 16,
   "id": "cc2a38e4",
   "metadata": {},
   "outputs": [
    {
     "name": "stdout",
     "output_type": "stream",
     "text": [
      "1/1 [==============================] - 1s 1s/step\n",
      "1/1 [==============================] - 0s 29ms/step\n",
      "1/1 [==============================] - 0s 29ms/step\n",
      "1/1 [==============================] - 0s 30ms/step\n",
      "1/1 [==============================] - 0s 30ms/step\n",
      "1/1 [==============================] - 0s 20ms/step\n",
      "1/1 [==============================] - 0s 34ms/step\n",
      "1/1 [==============================] - 0s 24ms/step\n",
      "1/1 [==============================] - 0s 30ms/step\n",
      "1/1 [==============================] - 0s 24ms/step\n",
      "     product_name  Year  Predicted_sales_count\n",
      "0    Biker Jacket  2023               0.497879\n",
      "1  Business Shirt  2023               0.432186\n",
      "2     Wool Jacket  2023               0.471230\n",
      "3    Summer Dress  2023               0.560523\n",
      "4    Casual Jeans  2023               0.443275\n",
      "5           Heels  2023               0.473891\n",
      "6     Beach Shirt  2023               0.527754\n",
      "7   Pattern Skirt  2023               0.523164\n",
      "8          Blouse  2023               0.449719\n",
      "9    Chino Shorts  2023               0.502140\n"
     ]
    }
   ],
   "source": [
    "# Function to forecast future demand for each product\n",
    "def forecast_future_for_product(model, data, seq_length):\n",
    "    input_seq = data[-seq_length:]\n",
    "    input_seq = input_seq.reshape((1, seq_length, input_seq.shape[1]))\n",
    "    pred = model.predict(input_seq)\n",
    "    return pred[0][0]\n",
    "\n",
    "# Initialize an empty list to store predictions\n",
    "predictions = []\n",
    "\n",
    "# Loop through each product\n",
    "unique_products = df['product_name'].unique()\n",
    "\n",
    "for product in unique_products:\n",
    "    product_data = df[df['product_name'] == product]\n",
    "    \n",
    "    # Normalize the product data\n",
    "    product_scaled_data = scaler.fit_transform(product_data[features])\n",
    "    \n",
    "    # Forecast future demand for the product\n",
    "    predicted_sales = forecast_future_for_product(model, product_scaled_data, seq_length)\n",
    "    \n",
    "    # Append the result to the predictions list\n",
    "    predictions.append({\n",
    "        'product_name': product,\n",
    "        'Year': 2023,\n",
    "        'Predicted_sales_count': predicted_sales\n",
    "    })\n",
    "\n",
    "# Convert the predictions list to a DataFrame\n",
    "output_df = pd.DataFrame(predictions)\n",
    "\n",
    "# Print the output DataFrame\n",
    "print(output_df)"
   ]
  },
  {
   "cell_type": "code",
   "execution_count": 17,
   "id": "6a8d76f3",
   "metadata": {},
   "outputs": [
    {
     "name": "stdout",
     "output_type": "stream",
     "text": [
      "1/1 [==============================] - 0s 26ms/step\n",
      "1/1 [==============================] - 0s 32ms/step\n",
      "1/1 [==============================] - 0s 28ms/step\n",
      "1/1 [==============================] - 0s 27ms/step\n",
      "1/1 [==============================] - 0s 24ms/step\n",
      "1/1 [==============================] - 0s 27ms/step\n",
      "1/1 [==============================] - 0s 29ms/step\n",
      "1/1 [==============================] - 0s 26ms/step\n",
      "1/1 [==============================] - 0s 29ms/step\n",
      "1/1 [==============================] - 0s 27ms/step\n",
      "     product_name  Year  Predicted_sales_count\n",
      "0    Biker Jacket  2023             274.757736\n",
      "1  Business Shirt  2023             245.267109\n",
      "2     Wool Jacket  2023             265.275007\n",
      "3    Summer Dress  2023             304.011382\n",
      "4    Casual Jeans  2023             252.943359\n",
      "5           Heels  2023             264.863935\n",
      "6     Beach Shirt  2023             289.138170\n",
      "7   Pattern Skirt  2023             286.796217\n",
      "8          Blouse  2023             254.072054\n",
      "9    Chino Shorts  2023             277.933008\n"
     ]
    }
   ],
   "source": [
    "# Function to forecast future demand for each product\n",
    "def forecast_future_for_product(model, scaler, data, seq_length):\n",
    "    input_seq = data[-seq_length:]\n",
    "    input_seq = input_seq.reshape((1, seq_length, input_seq.shape[1]))\n",
    "    pred = model.predict(input_seq)\n",
    "    \n",
    "    # Inverse transform the predicted value\n",
    "    pred_inv = scaler.inverse_transform([[0, 0, 0, pred[0][0]]])[:, 3]\n",
    "    return pred_inv\n",
    "\n",
    "# Initialize an empty list to store predictions\n",
    "predictions = []\n",
    "\n",
    "# Loop through each product\n",
    "for product in unique_products:\n",
    "    product_data = df[df['product_name'] == product]\n",
    "    \n",
    "    # Normalize the product data using the previously fitted scaler\n",
    "    product_scaled_data = scaler.transform(product_data[features])\n",
    "    \n",
    "    # Forecast future demand for the product\n",
    "    predicted_sales = forecast_future_for_product(model, scaler, product_scaled_data, seq_length)\n",
    "    \n",
    "    # Append the result to the predictions list\n",
    "    predictions.append({\n",
    "        'product_name': product,\n",
    "        'Year': 2023,\n",
    "        'Predicted_sales_count': predicted_sales[0]  # Use the actual numerical value\n",
    "    })\n",
    "\n",
    "# Convert the predictions list to a DataFrame\n",
    "output_df = pd.DataFrame(predictions)\n",
    "\n",
    "# Print the output DataFrame\n",
    "print(output_df)"
   ]
  },
  {
   "cell_type": "code",
   "execution_count": null,
   "id": "6dd7672b",
   "metadata": {},
   "outputs": [],
   "source": []
  }
 ],
 "metadata": {
  "kernelspec": {
   "display_name": "Python 3 (ipykernel)",
   "language": "python",
   "name": "python3"
  },
  "language_info": {
   "codemirror_mode": {
    "name": "ipython",
    "version": 3
   },
   "file_extension": ".py",
   "mimetype": "text/x-python",
   "name": "python",
   "nbconvert_exporter": "python",
   "pygments_lexer": "ipython3",
   "version": "3.10.9"
  }
 },
 "nbformat": 4,
 "nbformat_minor": 5
}
